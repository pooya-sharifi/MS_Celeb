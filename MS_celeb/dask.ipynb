{
 "cells": [
  {
   "cell_type": "code",
   "execution_count": 39,
   "id": "fd0fad4c-9dab-4474-b0f0-d57645a1f95a",
   "metadata": {},
   "outputs": [],
   "source": [
    "import dask"
   ]
  },
  {
   "cell_type": "code",
   "execution_count": 40,
   "id": "7be1973b-bc6c-47df-9126-6b0608a44ba6",
   "metadata": {},
   "outputs": [],
   "source": [
    "import dask.dataframe as dd"
   ]
  },
  {
   "cell_type": "code",
   "execution_count": 41,
   "id": "a1381ae3-e55c-45b8-9c59-9c02328aef2e",
   "metadata": {},
   "outputs": [],
   "source": [
    "import tensorflow as tf"
   ]
  },
  {
   "cell_type": "code",
   "execution_count": 42,
   "id": "0852b8d5-ca26-4daa-b090-4053aa85f5c4",
   "metadata": {},
   "outputs": [],
   "source": [
    "import base64\n",
    "import cv2\n",
    "from PIL import Image\n",
    "import numpy as np\n",
    "import matplotlib.pyplot as plt\n",
    "import io"
   ]
  },
  {
   "cell_type": "code",
   "execution_count": 43,
   "id": "7a28beb3-61b7-4837-a47c-724dcc6c7568",
   "metadata": {},
   "outputs": [],
   "source": [
    "df = dd.read_csv(\"G:\\Dataset\\FaceImageCroppedWithAlignment.tsv\", sep=\"\\t\")"
   ]
  },
  {
   "cell_type": "code",
   "execution_count": 52,
   "id": "0eb58e9a-d9ed-406a-90fc-df3c3eac7a7f",
   "metadata": {},
   "outputs": [
    {
     "data": {
      "text/html": [
       "<div><strong>Dask DataFrame Structure:</strong></div>\n",
       "<div>\n",
       "<style scoped>\n",
       "    .dataframe tbody tr th:only-of-type {\n",
       "        vertical-align: middle;\n",
       "    }\n",
       "\n",
       "    .dataframe tbody tr th {\n",
       "        vertical-align: top;\n",
       "    }\n",
       "\n",
       "    .dataframe thead th {\n",
       "        text-align: right;\n",
       "    }\n",
       "</style>\n",
       "<table border=\"1\" class=\"dataframe\">\n",
       "  <thead>\n",
       "    <tr style=\"text-align: right;\">\n",
       "      <th></th>\n",
       "      <th>m.0107_f</th>\n",
       "      <th>0</th>\n",
       "      <th>http://getbeatmadrid.files.wordpress.com/2013/01/magic-alex.jpg</th>\n",
       "      <th>http://getbeatmadrid.wordpress.com/2013/01/28/magic-alex/</th>\n",
       "      <th>FaceId-0</th>\n",
       "      <th>KsQsP3Pumj2B6UE/Vj4/Pg==</th>\n",
       "      <th>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</th>\n",
       "    </tr>\n",
       "    <tr>\n",
       "      <th>npartitions=1424</th>\n",
       "      <th></th>\n",
       "      <th></th>\n",
       "      <th></th>\n",
       "      <th></th>\n",
       "      <th></th>\n",
       "      <th></th>\n",
       "      <th></th>\n",
       "    </tr>\n",
       "  </thead>\n",
       "  <tbody>\n",
       "    <tr>\n",
       "      <th></th>\n",
       "      <td>object</td>\n",
       "      <td>int64</td>\n",
       "      <td>object</td>\n",
       "      <td>object</td>\n",
       "      <td>object</td>\n",
       "      <td>object</td>\n",
       "      <td>object</td>\n",
       "    </tr>\n",
       "    <tr>\n",
       "      <th></th>\n",
       "      <td>...</td>\n",
       "      <td>...</td>\n",
       "      <td>...</td>\n",
       "      <td>...</td>\n",
       "      <td>...</td>\n",
       "      <td>...</td>\n",
       "      <td>...</td>\n",
       "    </tr>\n",
       "    <tr>\n",
       "      <th>...</th>\n",
       "      <td>...</td>\n",
       "      <td>...</td>\n",
       "      <td>...</td>\n",
       "      <td>...</td>\n",
       "      <td>...</td>\n",
       "      <td>...</td>\n",
       "      <td>...</td>\n",
       "    </tr>\n",
       "    <tr>\n",
       "      <th></th>\n",
       "      <td>...</td>\n",
       "      <td>...</td>\n",
       "      <td>...</td>\n",
       "      <td>...</td>\n",
       "      <td>...</td>\n",
       "      <td>...</td>\n",
       "      <td>...</td>\n",
       "    </tr>\n",
       "    <tr>\n",
       "      <th></th>\n",
       "      <td>...</td>\n",
       "      <td>...</td>\n",
       "      <td>...</td>\n",
       "      <td>...</td>\n",
       "      <td>...</td>\n",
       "      <td>...</td>\n",
       "      <td>...</td>\n",
       "    </tr>\n",
       "  </tbody>\n",
       "</table>\n",
       "</div>\n",
       "<div>Dask Name: read-csv, 1424 tasks</div>"
      ],
      "text/plain": [
       "Dask DataFrame Structure:\n",
       "                 m.0107_f      0 http://getbeatmadrid.files.wordpress.com/2013/01/magic-alex.jpg http://getbeatmadrid.wordpress.com/2013/01/28/magic-alex/ FaceId-0 KsQsP3Pumj2B6UE/Vj4/Pg== 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\n",
       "npartitions=1424                                                                                                                                                                                                                                                                                                                                                                                                                                                                                                                                                                                                                                                                                                                                                                                                                                                                                                                                                                                                                                                                                                                                                                                                                                                                                                                                                                                                                                                                                                                                                                                                                                                                                                                                                                                                                                                                                                                                                                                                                                                                                                                                                                                                                                                                                                                                                                                                                                                                                                                                                                                                                                                                                                                                                                                                                                                                                                                                                                                                                                                                                                                                                                                                                                                                                                                                                                                                                                                                                                                                                                                                                                                                         \n",
       "                   object  int64                                                          object                                                    object   object                   object                                                                                                                                                                                                                                                                                                                                                                                                                                                                                                                                                                                                                                                                                                                                                                                                                                                                                                                                                                                                                                                                                                                                                                                                                                                                                                                                                                                                                                                                                                                                                                                                                                                                                                                                                                                                                                                                                                                                                                                                                                                                                                                                                                                                                                                                                                                                                                                                                                                                                                                                                                                                                                                                                                                                                                                                                                                                                                                                                                                                                                                                                                                                                                                                                                                                                                                                                                                                                                                                                       object\n",
       "                      ...    ...                                                             ...                                                       ...      ...                      ...                                                                                                                                                                                                                                                                                                                                                                                                                                                                                                                                                                                                                                                                                                                                                                                                                                                                                                                                                                                                                                                                                                                                                                                                                                                                                                                                                                                                                                                                                                                                                                                                                                                                                                                                                                                                                                                                                                                                                                                                                                                                                                                                                                                                                                                                                                                                                                                                                                                                                                                                                                                                                                                                                                                                                                                                                                                                                                                                                                                                                                                                                                                                                                                                                                                                                                                                                                                                                                                                                          ...\n",
       "...                   ...    ...                                                             ...                                                       ...      ...                      ...                                                                                                                                                                                                                                                                                                                                                                                                                                                                                                                                                                                                                                                                                                                                                                                                                                                                                                                                                                                                                                                                                                                                                                                                                                                                                                                                                                                                                                                                                                                                                                                                                                                                                                                                                                                                                                                                                                                                                                                                                                                                                                                                                                                                                                                                                                                                                                                                                                                                                                                                                                                                                                                                                                                                                                                                                                                                                                                                                                                                                                                                                                                                                                                                                                                                                                                                                                                                                                                                                          ...\n",
       "                      ...    ...                                                             ...                                                       ...      ...                      ...                                                                                                                                                                                                                                                                                                                                                                                                                                                                                                                                                                                                                                                                                                                                                                                                                                                                                                                                                                                                                                                                                                                                                                                                                                                                                                                                                                                                                                                                                                                                                                                                                                                                                                                                                                                                                                                                                                                                                                                                                                                                                                                                                                                                                                                                                                                                                                                                                                                                                                                                                                                                                                                                                                                                                                                                                                                                                                                                                                                                                                                                                                                                                                                                                                                                                                                                                                                                                                                                                          ...\n",
       "                      ...    ...                                                             ...                                                       ...      ...                      ...                                                                                                                                                                                                                                                                                                                                                                                                                                                                                                                                                                                                                                                                                                                                                                                                                                                                                                                                                                                                                                                                                                                                                                                                                                                                                                                                                                                                                                                                                                                                                                                                                                                                                                                                                                                                                                                                                                                                                                                                                                                                                                                                                                                                                                                                                                                                                                                                                                                                                                                                                                                                                                                                                                                                                                                                                                                                                                                                                                                                                                                                                                                                                                                                                                                                                                                                                                                                                                                                                          ...\n",
       "Dask Name: read-csv, 1424 tasks"
      ]
     },
     "execution_count": 52,
     "metadata": {},
     "output_type": "execute_result"
    }
   ],
   "source": [
    "# def csv_reader(file_name):\n",
    "#     for row in open(file_name, \"r\"):\n",
    "#         yield row\n",
    "        \n",
    "# row = csv_reader(\"G:\\Dataset\\FaceImageCroppedWithAlignment.tsv\")\n",
    "# row.close\n",
    "# print(type(row))\n",
    "# a = [i for i in next(row)]\n",
    "# len(a)\n",
    "df"
   ]
  },
  {
   "cell_type": "code",
   "execution_count": 55,
   "id": "e1fa5e44-3a42-4f5f-b271-e6b017d50b9c",
   "metadata": {},
   "outputs": [
    {
     "data": {
      "text/plain": [
       "<bound method _Frame.count of Dask DataFrame Structure:\n",
       "                 m.0107_f      0 http://getbeatmadrid.files.wordpress.com/2013/01/magic-alex.jpg http://getbeatmadrid.wordpress.com/2013/01/28/magic-alex/ FaceId-0 KsQsP3Pumj2B6UE/Vj4/Pg== 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\n",
       "npartitions=1424                                                                                                                                                                                                                                                                                                                                                                                                                                                                                                                                                                                                                                                                                                                                                                                                                                                                                                                                                                                                                                                                                                                                                                                                                                                                                                                                                                                                                                                                                                                                                                                                                                                                                                                                                                                                                                                                                                                                                                                                                                                                                                                                                                                                                                                                                                                                                                                                                                                                                                                                                                                                                                                                                                                                                                                                                                                                                                                                                                                                                                                                                                                                                                                                                                                                                                                                                                                                                                                                                                                                                                                                                                                                         \n",
       "                   object  int64                                                          object                                                    object   object                   object                                                                                                                                                                                                                                                                                                                                                                                                                                                                                                                                                                                                                                                                                                                                                                                                                                                                                                                                                                                                                                                                                                                                                                                                                                                                                                                                                                                                                                                                                                                                                                                                                                                                                                                                                                                                                                                                                                                                                                                                                                                                                                                                                                                                                                                                                                                                                                                                                                                                                                                                                                                                                                                                                                                                                                                                                                                                                                                                                                                                                                                                                                                                                                                                                                                                                                                                                                                                                                                                                       object\n",
       "                      ...    ...                                                             ...                                                       ...      ...                      ...                                                                                                                                                                                                                                                                                                                                                                                                                                                                                                                                                                                                                                                                                                                                                                                                                                                                                                                                                                                                                                                                                                                                                                                                                                                                                                                                                                                                                                                                                                                                                                                                                                                                                                                                                                                                                                                                                                                                                                                                                                                                                                                                                                                                                                                                                                                                                                                                                                                                                                                                                                                                                                                                                                                                                                                                                                                                                                                                                                                                                                                                                                                                                                                                                                                                                                                                                                                                                                                                                          ...\n",
       "...                   ...    ...                                                             ...                                                       ...      ...                      ...                                                                                                                                                                                                                                                                                                                                                                                                                                                                                                                                                                                                                                                                                                                                                                                                                                                                                                                                                                                                                                                                                                                                                                                                                                                                                                                                                                                                                                                                                                                                                                                                                                                                                                                                                                                                                                                                                                                                                                                                                                                                                                                                                                                                                                                                                                                                                                                                                                                                                                                                                                                                                                                                                                                                                                                                                                                                                                                                                                                                                                                                                                                                                                                                                                                                                                                                                                                                                                                                                          ...\n",
       "                      ...    ...                                                             ...                                                       ...      ...                      ...                                                                                                                                                                                                                                                                                                                                                                                                                                                                                                                                                                                                                                                                                                                                                                                                                                                                                                                                                                                                                                                                                                                                                                                                                                                                                                                                                                                                                                                                                                                                                                                                                                                                                                                                                                                                                                                                                                                                                                                                                                                                                                                                                                                                                                                                                                                                                                                                                                                                                                                                                                                                                                                                                                                                                                                                                                                                                                                                                                                                                                                                                                                                                                                                                                                                                                                                                                                                                                                                                          ...\n",
       "                      ...    ...                                                             ...                                                       ...      ...                      ...                                                                                                                                                                                                                                                                                                                                                                                                                                                                                                                                                                                                                                                                                                                                                                                                                                                                                                                                                                                                                                                                                                                                                                                                                                                                                                                                                                                                                                                                                                                                                                                                                                                                                                                                                                                                                                                                                                                                                                                                                                                                                                                                                                                                                                                                                                                                                                                                                                                                                                                                                                                                                                                                                                                                                                                                                                                                                                                                                                                                                                                                                                                                                                                                                                                                                                                                                                                                                                                                                          ...\n",
       "Dask Name: read-csv, 1424 tasks>"
      ]
     },
     "execution_count": 55,
     "metadata": {},
     "output_type": "execute_result"
    }
   ],
   "source": [
    "# df.iloc[-1,[0,1, -1]]\n",
    "df.count\n"
   ]
  },
  {
   "cell_type": "code",
   "execution_count": 82,
   "id": "07352df8-e1db-4f03-8614-9d35a6839e4e",
   "metadata": {},
   "outputs": [
    {
     "data": {
      "text/plain": [
       "['m.0107_f',\n",
       " '0',\n",
       " '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']"
      ]
     },
     "execution_count": 82,
     "metadata": {},
     "output_type": "execute_result"
    }
   ],
   "source": [
    "df_prime = df.iloc[:,[0,1, -1]]\n",
    "x = list(df_prime.columns)\n",
    "x"
   ]
  },
  {
   "cell_type": "code",
   "execution_count": 83,
   "id": "cd7f82c1-767e-4f78-93ad-a0ecb12e3eda",
   "metadata": {},
   "outputs": [],
   "source": [
    "df_prime= df_prime.rename(columns={x[0]:\"a\", x[1]:\"b\", x[2]:\"c\"})"
   ]
  },
  {
   "cell_type": "code",
   "execution_count": 86,
   "id": "bc770252-a31d-4b79-b9a9-831f106d2ac4",
   "metadata": {},
   "outputs": [
    {
     "data": {
      "text/html": [
       "<div><strong>Dask DataFrame Structure:</strong></div>\n",
       "<div>\n",
       "<style scoped>\n",
       "    .dataframe tbody tr th:only-of-type {\n",
       "        vertical-align: middle;\n",
       "    }\n",
       "\n",
       "    .dataframe tbody tr th {\n",
       "        vertical-align: top;\n",
       "    }\n",
       "\n",
       "    .dataframe thead th {\n",
       "        text-align: right;\n",
       "    }\n",
       "</style>\n",
       "<table border=\"1\" class=\"dataframe\">\n",
       "  <thead>\n",
       "    <tr style=\"text-align: right;\">\n",
       "      <th></th>\n",
       "      <th>a</th>\n",
       "      <th>b</th>\n",
       "      <th>c</th>\n",
       "    </tr>\n",
       "    <tr>\n",
       "      <th>npartitions=1424</th>\n",
       "      <th></th>\n",
       "      <th></th>\n",
       "      <th></th>\n",
       "    </tr>\n",
       "  </thead>\n",
       "  <tbody>\n",
       "    <tr>\n",
       "      <th></th>\n",
       "      <td>object</td>\n",
       "      <td>int64</td>\n",
       "      <td>object</td>\n",
       "    </tr>\n",
       "    <tr>\n",
       "      <th></th>\n",
       "      <td>...</td>\n",
       "      <td>...</td>\n",
       "      <td>...</td>\n",
       "    </tr>\n",
       "    <tr>\n",
       "      <th>...</th>\n",
       "      <td>...</td>\n",
       "      <td>...</td>\n",
       "      <td>...</td>\n",
       "    </tr>\n",
       "    <tr>\n",
       "      <th></th>\n",
       "      <td>...</td>\n",
       "      <td>...</td>\n",
       "      <td>...</td>\n",
       "    </tr>\n",
       "    <tr>\n",
       "      <th></th>\n",
       "      <td>...</td>\n",
       "      <td>...</td>\n",
       "      <td>...</td>\n",
       "    </tr>\n",
       "  </tbody>\n",
       "</table>\n",
       "</div>\n",
       "<div>Dask Name: rename, 4272 tasks</div>"
      ],
      "text/plain": [
       "Dask DataFrame Structure:\n",
       "                       a      b       c\n",
       "npartitions=1424                       \n",
       "                  object  int64  object\n",
       "                     ...    ...     ...\n",
       "...                  ...    ...     ...\n",
       "                     ...    ...     ...\n",
       "                     ...    ...     ...\n",
       "Dask Name: rename, 4272 tasks"
      ]
     },
     "execution_count": 86,
     "metadata": {},
     "output_type": "execute_result"
    }
   ],
   "source": [
    "df_prime"
   ]
  },
  {
   "cell_type": "code",
   "execution_count": 97,
   "id": "a60e4a9c-fc30-4a7e-87cf-1c670f42f7fb",
   "metadata": {},
   "outputs": [
    {
     "data": {
      "text/plain": [
       "generator"
      ]
     },
     "execution_count": 97,
     "metadata": {},
     "output_type": "execute_result"
    }
   ],
   "source": [
    "df_gen = df_prime.iterrows()\n",
    "type(df_gen)"
   ]
  },
  {
   "cell_type": "code",
   "execution_count": 23,
   "id": "8ccefca0-8661-45c4-a738-496b4308758e",
   "metadata": {},
   "outputs": [
    {
     "data": {
      "text/plain": [
       "2"
      ]
     },
     "execution_count": 23,
     "metadata": {},
     "output_type": "execute_result"
    }
   ],
   "source": [
    "mp = list(next(df_gen))\n",
    "mp[1][\"second\"]\n",
    "mp[0]\n",
    "# mp = np.asarray(mp)\n",
    "# mp.shape\n"
   ]
  },
  {
   "cell_type": "code",
   "execution_count": 135,
   "id": "2df99c27-62b3-45ef-a2f1-be4976bb72da",
   "metadata": {},
   "outputs": [],
   "source": [
    "# b = a.iterrows()\n",
    "# df_gen.send"
   ]
  },
  {
   "cell_type": "code",
   "execution_count": 136,
   "id": "852ed375-a2b8-45f4-a2cc-a746de6240f4",
   "metadata": {},
   "outputs": [],
   "source": [
    "# next(b)"
   ]
  },
  {
   "cell_type": "code",
   "execution_count": 137,
   "id": "b603c808-dcc8-4ce1-bb90-8fd84afd337b",
   "metadata": {},
   "outputs": [],
   "source": [
    "# for i in range(200):\n",
    "#     next(b)"
   ]
  },
  {
   "cell_type": "code",
   "execution_count": 24,
   "id": "8a68a815-6616-44d7-919d-9e2fb38a19ea",
   "metadata": {},
   "outputs": [],
   "source": [
    "def stringToRGB(base64_string):\n",
    "    imgdata = base64.b64decode(str(base64_string))\n",
    "    img = Image.open(io.BytesIO(imgdata))\n",
    "    opencv_img= cv2.cvtColor(np.array(img), cv2.COLOR_BGR2RGB)\n",
    "    opencv_img = cv2.resize(opencv_img, (224,224))\n",
    "    return opencv_img "
   ]
  },
  {
   "cell_type": "code",
   "execution_count": null,
   "id": "e9d931c3-0fb4-4bda-b5f6-f53a2e4a9f96",
   "metadata": {
    "scrolled": true,
    "tags": []
   },
   "outputs": [],
   "source": [
    "for i in range(100):\n",
    "    mp = list(next(df_gen))\n",
    "    # print(mp[1][\"first\"])\n",
    "    img = stringToRGB(mp[1][\"second\"])\n",
    "    print(img.shape)\n",
    "    print(mp[1][\"first\"])\n",
    "    plt.imshow(img)\n",
    "    plt.show()"
   ]
  },
  {
   "cell_type": "code",
   "execution_count": 98,
   "id": "49aa2681-a4b8-4786-9bf8-c55942efb89e",
   "metadata": {},
   "outputs": [
    {
     "ename": "KeyboardInterrupt",
     "evalue": "",
     "output_type": "error",
     "traceback": [
      "\u001b[1;31m---------------------------------------------------------------------------\u001b[0m",
      "\u001b[1;31mKeyboardInterrupt\u001b[0m                         Traceback (most recent call last)",
      "\u001b[1;32m<ipython-input-98-10da81e7ed65>\u001b[0m in \u001b[0;36m<module>\u001b[1;34m\u001b[0m\n\u001b[0;32m      1\u001b[0m \u001b[1;32mwhile\u001b[0m \u001b[1;32mTrue\u001b[0m\u001b[1;33m:\u001b[0m\u001b[1;33m\u001b[0m\u001b[1;33m\u001b[0m\u001b[0m\n\u001b[1;32m----> 2\u001b[1;33m     \u001b[0mmp\u001b[0m \u001b[1;33m=\u001b[0m \u001b[0mnext\u001b[0m\u001b[1;33m(\u001b[0m\u001b[0mdf_gen\u001b[0m\u001b[1;33m)\u001b[0m\u001b[1;33m\u001b[0m\u001b[1;33m\u001b[0m\u001b[0m\n\u001b[0m\u001b[0;32m      3\u001b[0m \u001b[0mmp\u001b[0m\u001b[1;33m\u001b[0m\u001b[1;33m\u001b[0m\u001b[0m\n",
      "\u001b[1;32mC:\\Program Files\\Anaconda3\\lib\\site-packages\\dask\\dataframe\\core.py\u001b[0m in \u001b[0;36miterrows\u001b[1;34m(self)\u001b[0m\n\u001b[0;32m   4163\u001b[0m     \u001b[1;32mdef\u001b[0m \u001b[0miterrows\u001b[0m\u001b[1;33m(\u001b[0m\u001b[0mself\u001b[0m\u001b[1;33m)\u001b[0m\u001b[1;33m:\u001b[0m\u001b[1;33m\u001b[0m\u001b[1;33m\u001b[0m\u001b[0m\n\u001b[0;32m   4164\u001b[0m         \u001b[1;32mfor\u001b[0m \u001b[0mi\u001b[0m \u001b[1;32min\u001b[0m \u001b[0mrange\u001b[0m\u001b[1;33m(\u001b[0m\u001b[0mself\u001b[0m\u001b[1;33m.\u001b[0m\u001b[0mnpartitions\u001b[0m\u001b[1;33m)\u001b[0m\u001b[1;33m:\u001b[0m\u001b[1;33m\u001b[0m\u001b[1;33m\u001b[0m\u001b[0m\n\u001b[1;32m-> 4165\u001b[1;33m             \u001b[0mdf\u001b[0m \u001b[1;33m=\u001b[0m \u001b[0mself\u001b[0m\u001b[1;33m.\u001b[0m\u001b[0mget_partition\u001b[0m\u001b[1;33m(\u001b[0m\u001b[0mi\u001b[0m\u001b[1;33m)\u001b[0m\u001b[1;33m.\u001b[0m\u001b[0mcompute\u001b[0m\u001b[1;33m(\u001b[0m\u001b[1;33m)\u001b[0m\u001b[1;33m\u001b[0m\u001b[1;33m\u001b[0m\u001b[0m\n\u001b[0m\u001b[0;32m   4166\u001b[0m             \u001b[1;32mfor\u001b[0m \u001b[0mrow\u001b[0m \u001b[1;32min\u001b[0m \u001b[0mdf\u001b[0m\u001b[1;33m.\u001b[0m\u001b[0miterrows\u001b[0m\u001b[1;33m(\u001b[0m\u001b[1;33m)\u001b[0m\u001b[1;33m:\u001b[0m\u001b[1;33m\u001b[0m\u001b[1;33m\u001b[0m\u001b[0m\n\u001b[0;32m   4167\u001b[0m                 \u001b[1;32myield\u001b[0m \u001b[0mrow\u001b[0m\u001b[1;33m\u001b[0m\u001b[1;33m\u001b[0m\u001b[0m\n",
      "\u001b[1;32mC:\\Program Files\\Anaconda3\\lib\\site-packages\\dask\\base.py\u001b[0m in \u001b[0;36mcompute\u001b[1;34m(self, **kwargs)\u001b[0m\n\u001b[0;32m    165\u001b[0m         \u001b[0mdask\u001b[0m\u001b[1;33m.\u001b[0m\u001b[0mbase\u001b[0m\u001b[1;33m.\u001b[0m\u001b[0mcompute\u001b[0m\u001b[1;33m\u001b[0m\u001b[1;33m\u001b[0m\u001b[0m\n\u001b[0;32m    166\u001b[0m         \"\"\"\n\u001b[1;32m--> 167\u001b[1;33m         \u001b[1;33m(\u001b[0m\u001b[0mresult\u001b[0m\u001b[1;33m,\u001b[0m\u001b[1;33m)\u001b[0m \u001b[1;33m=\u001b[0m \u001b[0mcompute\u001b[0m\u001b[1;33m(\u001b[0m\u001b[0mself\u001b[0m\u001b[1;33m,\u001b[0m \u001b[0mtraverse\u001b[0m\u001b[1;33m=\u001b[0m\u001b[1;32mFalse\u001b[0m\u001b[1;33m,\u001b[0m \u001b[1;33m**\u001b[0m\u001b[0mkwargs\u001b[0m\u001b[1;33m)\u001b[0m\u001b[1;33m\u001b[0m\u001b[1;33m\u001b[0m\u001b[0m\n\u001b[0m\u001b[0;32m    168\u001b[0m         \u001b[1;32mreturn\u001b[0m \u001b[0mresult\u001b[0m\u001b[1;33m\u001b[0m\u001b[1;33m\u001b[0m\u001b[0m\n\u001b[0;32m    169\u001b[0m \u001b[1;33m\u001b[0m\u001b[0m\n",
      "\u001b[1;32mC:\\Program Files\\Anaconda3\\lib\\site-packages\\dask\\base.py\u001b[0m in \u001b[0;36mcompute\u001b[1;34m(*args, **kwargs)\u001b[0m\n\u001b[0;32m    450\u001b[0m         \u001b[0mpostcomputes\u001b[0m\u001b[1;33m.\u001b[0m\u001b[0mappend\u001b[0m\u001b[1;33m(\u001b[0m\u001b[0mx\u001b[0m\u001b[1;33m.\u001b[0m\u001b[0m__dask_postcompute__\u001b[0m\u001b[1;33m(\u001b[0m\u001b[1;33m)\u001b[0m\u001b[1;33m)\u001b[0m\u001b[1;33m\u001b[0m\u001b[1;33m\u001b[0m\u001b[0m\n\u001b[0;32m    451\u001b[0m \u001b[1;33m\u001b[0m\u001b[0m\n\u001b[1;32m--> 452\u001b[1;33m     \u001b[0mresults\u001b[0m \u001b[1;33m=\u001b[0m \u001b[0mschedule\u001b[0m\u001b[1;33m(\u001b[0m\u001b[0mdsk\u001b[0m\u001b[1;33m,\u001b[0m \u001b[0mkeys\u001b[0m\u001b[1;33m,\u001b[0m \u001b[1;33m**\u001b[0m\u001b[0mkwargs\u001b[0m\u001b[1;33m)\u001b[0m\u001b[1;33m\u001b[0m\u001b[1;33m\u001b[0m\u001b[0m\n\u001b[0m\u001b[0;32m    453\u001b[0m     \u001b[1;32mreturn\u001b[0m \u001b[0mrepack\u001b[0m\u001b[1;33m(\u001b[0m\u001b[1;33m[\u001b[0m\u001b[0mf\u001b[0m\u001b[1;33m(\u001b[0m\u001b[0mr\u001b[0m\u001b[1;33m,\u001b[0m \u001b[1;33m*\u001b[0m\u001b[0ma\u001b[0m\u001b[1;33m)\u001b[0m \u001b[1;32mfor\u001b[0m \u001b[0mr\u001b[0m\u001b[1;33m,\u001b[0m \u001b[1;33m(\u001b[0m\u001b[0mf\u001b[0m\u001b[1;33m,\u001b[0m \u001b[0ma\u001b[0m\u001b[1;33m)\u001b[0m \u001b[1;32min\u001b[0m \u001b[0mzip\u001b[0m\u001b[1;33m(\u001b[0m\u001b[0mresults\u001b[0m\u001b[1;33m,\u001b[0m \u001b[0mpostcomputes\u001b[0m\u001b[1;33m)\u001b[0m\u001b[1;33m]\u001b[0m\u001b[1;33m)\u001b[0m\u001b[1;33m\u001b[0m\u001b[1;33m\u001b[0m\u001b[0m\n\u001b[0;32m    454\u001b[0m \u001b[1;33m\u001b[0m\u001b[0m\n",
      "\u001b[1;32mC:\\Program Files\\Anaconda3\\lib\\site-packages\\dask\\threaded.py\u001b[0m in \u001b[0;36mget\u001b[1;34m(dsk, result, cache, num_workers, pool, **kwargs)\u001b[0m\n\u001b[0;32m     74\u001b[0m                 \u001b[0mpools\u001b[0m\u001b[1;33m[\u001b[0m\u001b[0mthread\u001b[0m\u001b[1;33m]\u001b[0m\u001b[1;33m[\u001b[0m\u001b[0mnum_workers\u001b[0m\u001b[1;33m]\u001b[0m \u001b[1;33m=\u001b[0m \u001b[0mpool\u001b[0m\u001b[1;33m\u001b[0m\u001b[1;33m\u001b[0m\u001b[0m\n\u001b[0;32m     75\u001b[0m \u001b[1;33m\u001b[0m\u001b[0m\n\u001b[1;32m---> 76\u001b[1;33m     results = get_async(\n\u001b[0m\u001b[0;32m     77\u001b[0m         \u001b[0mpool\u001b[0m\u001b[1;33m.\u001b[0m\u001b[0mapply_async\u001b[0m\u001b[1;33m,\u001b[0m\u001b[1;33m\u001b[0m\u001b[1;33m\u001b[0m\u001b[0m\n\u001b[0;32m     78\u001b[0m         \u001b[0mlen\u001b[0m\u001b[1;33m(\u001b[0m\u001b[0mpool\u001b[0m\u001b[1;33m.\u001b[0m\u001b[0m_pool\u001b[0m\u001b[1;33m)\u001b[0m\u001b[1;33m,\u001b[0m\u001b[1;33m\u001b[0m\u001b[1;33m\u001b[0m\u001b[0m\n",
      "\u001b[1;32mC:\\Program Files\\Anaconda3\\lib\\site-packages\\dask\\local.py\u001b[0m in \u001b[0;36mget_async\u001b[1;34m(apply_async, num_workers, dsk, result, cache, get_id, rerun_exceptions_locally, pack_exception, raise_exception, callbacks, dumps, loads, **kwargs)\u001b[0m\n\u001b[0;32m    473\u001b[0m             \u001b[1;31m# Main loop, wait on tasks to finish, insert new ones\u001b[0m\u001b[1;33m\u001b[0m\u001b[1;33m\u001b[0m\u001b[1;33m\u001b[0m\u001b[0m\n\u001b[0;32m    474\u001b[0m             \u001b[1;32mwhile\u001b[0m \u001b[0mstate\u001b[0m\u001b[1;33m[\u001b[0m\u001b[1;34m\"waiting\"\u001b[0m\u001b[1;33m]\u001b[0m \u001b[1;32mor\u001b[0m \u001b[0mstate\u001b[0m\u001b[1;33m[\u001b[0m\u001b[1;34m\"ready\"\u001b[0m\u001b[1;33m]\u001b[0m \u001b[1;32mor\u001b[0m \u001b[0mstate\u001b[0m\u001b[1;33m[\u001b[0m\u001b[1;34m\"running\"\u001b[0m\u001b[1;33m]\u001b[0m\u001b[1;33m:\u001b[0m\u001b[1;33m\u001b[0m\u001b[1;33m\u001b[0m\u001b[0m\n\u001b[1;32m--> 475\u001b[1;33m                 \u001b[0mkey\u001b[0m\u001b[1;33m,\u001b[0m \u001b[0mres_info\u001b[0m\u001b[1;33m,\u001b[0m \u001b[0mfailed\u001b[0m \u001b[1;33m=\u001b[0m \u001b[0mqueue_get\u001b[0m\u001b[1;33m(\u001b[0m\u001b[0mqueue\u001b[0m\u001b[1;33m)\u001b[0m\u001b[1;33m\u001b[0m\u001b[1;33m\u001b[0m\u001b[0m\n\u001b[0m\u001b[0;32m    476\u001b[0m                 \u001b[1;32mif\u001b[0m \u001b[0mfailed\u001b[0m\u001b[1;33m:\u001b[0m\u001b[1;33m\u001b[0m\u001b[1;33m\u001b[0m\u001b[0m\n\u001b[0;32m    477\u001b[0m                     \u001b[0mexc\u001b[0m\u001b[1;33m,\u001b[0m \u001b[0mtb\u001b[0m \u001b[1;33m=\u001b[0m \u001b[0mloads\u001b[0m\u001b[1;33m(\u001b[0m\u001b[0mres_info\u001b[0m\u001b[1;33m)\u001b[0m\u001b[1;33m\u001b[0m\u001b[1;33m\u001b[0m\u001b[0m\n",
      "\u001b[1;32mC:\\Program Files\\Anaconda3\\lib\\site-packages\\dask\\local.py\u001b[0m in \u001b[0;36mqueue_get\u001b[1;34m(q)\u001b[0m\n\u001b[0;32m    123\u001b[0m         \u001b[1;32mwhile\u001b[0m \u001b[1;32mTrue\u001b[0m\u001b[1;33m:\u001b[0m\u001b[1;33m\u001b[0m\u001b[1;33m\u001b[0m\u001b[0m\n\u001b[0;32m    124\u001b[0m             \u001b[1;32mtry\u001b[0m\u001b[1;33m:\u001b[0m\u001b[1;33m\u001b[0m\u001b[1;33m\u001b[0m\u001b[0m\n\u001b[1;32m--> 125\u001b[1;33m                 \u001b[1;32mreturn\u001b[0m \u001b[0mq\u001b[0m\u001b[1;33m.\u001b[0m\u001b[0mget\u001b[0m\u001b[1;33m(\u001b[0m\u001b[0mblock\u001b[0m\u001b[1;33m=\u001b[0m\u001b[1;32mTrue\u001b[0m\u001b[1;33m,\u001b[0m \u001b[0mtimeout\u001b[0m\u001b[1;33m=\u001b[0m\u001b[1;36m0.1\u001b[0m\u001b[1;33m)\u001b[0m\u001b[1;33m\u001b[0m\u001b[1;33m\u001b[0m\u001b[0m\n\u001b[0m\u001b[0;32m    126\u001b[0m             \u001b[1;32mexcept\u001b[0m \u001b[0mEmpty\u001b[0m\u001b[1;33m:\u001b[0m\u001b[1;33m\u001b[0m\u001b[1;33m\u001b[0m\u001b[0m\n\u001b[0;32m    127\u001b[0m                 \u001b[1;32mpass\u001b[0m\u001b[1;33m\u001b[0m\u001b[1;33m\u001b[0m\u001b[0m\n",
      "\u001b[1;32mC:\\Program Files\\Anaconda3\\lib\\queue.py\u001b[0m in \u001b[0;36mget\u001b[1;34m(self, block, timeout)\u001b[0m\n\u001b[0;32m    177\u001b[0m                     \u001b[1;32mif\u001b[0m \u001b[0mremaining\u001b[0m \u001b[1;33m<=\u001b[0m \u001b[1;36m0.0\u001b[0m\u001b[1;33m:\u001b[0m\u001b[1;33m\u001b[0m\u001b[1;33m\u001b[0m\u001b[0m\n\u001b[0;32m    178\u001b[0m                         \u001b[1;32mraise\u001b[0m \u001b[0mEmpty\u001b[0m\u001b[1;33m\u001b[0m\u001b[1;33m\u001b[0m\u001b[0m\n\u001b[1;32m--> 179\u001b[1;33m                     \u001b[0mself\u001b[0m\u001b[1;33m.\u001b[0m\u001b[0mnot_empty\u001b[0m\u001b[1;33m.\u001b[0m\u001b[0mwait\u001b[0m\u001b[1;33m(\u001b[0m\u001b[0mremaining\u001b[0m\u001b[1;33m)\u001b[0m\u001b[1;33m\u001b[0m\u001b[1;33m\u001b[0m\u001b[0m\n\u001b[0m\u001b[0;32m    180\u001b[0m             \u001b[0mitem\u001b[0m \u001b[1;33m=\u001b[0m \u001b[0mself\u001b[0m\u001b[1;33m.\u001b[0m\u001b[0m_get\u001b[0m\u001b[1;33m(\u001b[0m\u001b[1;33m)\u001b[0m\u001b[1;33m\u001b[0m\u001b[1;33m\u001b[0m\u001b[0m\n\u001b[0;32m    181\u001b[0m             \u001b[0mself\u001b[0m\u001b[1;33m.\u001b[0m\u001b[0mnot_full\u001b[0m\u001b[1;33m.\u001b[0m\u001b[0mnotify\u001b[0m\u001b[1;33m(\u001b[0m\u001b[1;33m)\u001b[0m\u001b[1;33m\u001b[0m\u001b[1;33m\u001b[0m\u001b[0m\n",
      "\u001b[1;32mC:\\Program Files\\Anaconda3\\lib\\threading.py\u001b[0m in \u001b[0;36mwait\u001b[1;34m(self, timeout)\u001b[0m\n\u001b[0;32m    304\u001b[0m             \u001b[1;32melse\u001b[0m\u001b[1;33m:\u001b[0m\u001b[1;33m\u001b[0m\u001b[1;33m\u001b[0m\u001b[0m\n\u001b[0;32m    305\u001b[0m                 \u001b[1;32mif\u001b[0m \u001b[0mtimeout\u001b[0m \u001b[1;33m>\u001b[0m \u001b[1;36m0\u001b[0m\u001b[1;33m:\u001b[0m\u001b[1;33m\u001b[0m\u001b[1;33m\u001b[0m\u001b[0m\n\u001b[1;32m--> 306\u001b[1;33m                     \u001b[0mgotit\u001b[0m \u001b[1;33m=\u001b[0m \u001b[0mwaiter\u001b[0m\u001b[1;33m.\u001b[0m\u001b[0macquire\u001b[0m\u001b[1;33m(\u001b[0m\u001b[1;32mTrue\u001b[0m\u001b[1;33m,\u001b[0m \u001b[0mtimeout\u001b[0m\u001b[1;33m)\u001b[0m\u001b[1;33m\u001b[0m\u001b[1;33m\u001b[0m\u001b[0m\n\u001b[0m\u001b[0;32m    307\u001b[0m                 \u001b[1;32melse\u001b[0m\u001b[1;33m:\u001b[0m\u001b[1;33m\u001b[0m\u001b[1;33m\u001b[0m\u001b[0m\n\u001b[0;32m    308\u001b[0m                     \u001b[0mgotit\u001b[0m \u001b[1;33m=\u001b[0m \u001b[0mwaiter\u001b[0m\u001b[1;33m.\u001b[0m\u001b[0macquire\u001b[0m\u001b[1;33m(\u001b[0m\u001b[1;32mFalse\u001b[0m\u001b[1;33m)\u001b[0m\u001b[1;33m\u001b[0m\u001b[1;33m\u001b[0m\u001b[0m\n",
      "\u001b[1;31mKeyboardInterrupt\u001b[0m: "
     ]
    }
   ],
   "source": [
    "while True:\n",
    "    mp = next(df_gen)\n",
    "mp    "
   ]
  },
  {
   "cell_type": "code",
   "execution_count": 26,
   "id": "06033882-b7f7-485b-a225-5cbfda53cafe",
   "metadata": {},
   "outputs": [],
   "source": [
    "def cnn_get_model_3(input_shape):\n",
    "    \"\"\"|\n",
    "    This function should build a Sequential model according to the above specification. Ensure the \n",
    "    weights are initialised by providing the input_shape argument in the first layer, given by the\n",
    "    function argument.\n",
    "    Your function should return the model.\n",
    "    \"\"\"\n",
    "    model = tf.keras.Sequential()\n",
    "    \n",
    "    # VGG_1\n",
    "    model.add(tf.keras.layers.Conv2D(32, (3, 3), activation='relu', kernel_initializer='he_uniform', padding='same', input_shape=input_shape))\n",
    "    model.add(tf.keras.layers.BatchNormalization())\n",
    "    model.add(tf.keras.layers.Conv2D(32, (3, 3), activation='relu', kernel_initializer='he_uniform', padding='same', input_shape=input_shape))\n",
    "    model.add(tf.keras.layers.BatchNormalization())\n",
    "    model.add(tf.keras.layers.MaxPooling2D(pool_size=(2, 2)))\n",
    "    model.add(tf.keras.layers.Dropout(0.2))\n",
    "    \n",
    "    # VGG_2\n",
    "    model.add(tf.keras.layers.Conv2D(64, (3, 3), activation='relu', kernel_initializer='he_uniform', padding='same', input_shape=input_shape))\n",
    "    model.add(tf.keras.layers.BatchNormalization())\n",
    "    model.add(tf.keras.layers.Conv2D(64, (3, 3), activation='relu', kernel_initializer='he_uniform', padding='same', input_shape=input_shape))\n",
    "    model.add(tf.keras.layers.BatchNormalization())\n",
    "    model.add(tf.keras.layers.MaxPooling2D(pool_size=(2, 2)))\n",
    "    model.add(tf.keras.layers.Dropout(0.3))\n",
    "    \n",
    "    # VGG_3\n",
    "    model.add(tf.keras.layers.Conv2D(128, (3, 3), activation='relu', kernel_initializer='he_uniform', padding='same', input_shape=input_shape))\n",
    "    model.add(tf.keras.layers.BatchNormalization())\n",
    "    model.add(tf.keras.layers.Conv2D(128, (3, 3), activation='relu', kernel_initializer='he_uniform', padding='same', input_shape=input_shape))\n",
    "    model.add(tf.keras.layers.BatchNormalization())\n",
    "    model.add(tf.keras.layers.MaxPooling2D(pool_size=(2, 2)))\n",
    "    model.add(tf.keras.layers.Dropout(0.4))\n",
    "    \n",
    "    # Output\n",
    "    model.add(tf.keras.layers.Flatten())\n",
    "    model.add(tf.keras.layers.Dense(128, activation='relu', kernel_initializer='he_uniform'))\n",
    "    model.add(tf.keras.layers.BatchNormalization())\n",
    "    model.add(tf.keras.layers.Dropout(0.5))\n",
    "    model.add(tf.keras.layers.Dense(10, activation='softmax'))\n",
    "    return model\n"
   ]
  },
  {
   "cell_type": "code",
   "execution_count": 30,
   "id": "ba188ad5-6bcb-4e0f-98fa-fdc47f2a20d7",
   "metadata": {},
   "outputs": [
    {
     "ename": "ValueError",
     "evalue": "Input 0 of layer \"conv2d\" is incompatible with the layer: expected min_ndim=4, found ndim=3. Full shape received: (None, None, 1)",
     "output_type": "error",
     "traceback": [
      "\u001b[1;31m---------------------------------------------------------------------------\u001b[0m",
      "\u001b[1;31mValueError\u001b[0m                                Traceback (most recent call last)",
      "\u001b[1;32m<ipython-input-30-68bce83bbd2a>\u001b[0m in \u001b[0;36m<module>\u001b[1;34m\u001b[0m\n\u001b[1;32m----> 1\u001b[1;33m \u001b[0mmodel_3\u001b[0m \u001b[1;33m=\u001b[0m \u001b[0mcnn_get_model_3\u001b[0m\u001b[1;33m(\u001b[0m\u001b[1;33m(\u001b[0m\u001b[1;32mNone\u001b[0m\u001b[1;33m,\u001b[0m \u001b[1;36m1\u001b[0m\u001b[1;33m)\u001b[0m\u001b[1;33m)\u001b[0m\u001b[1;33m\u001b[0m\u001b[1;33m\u001b[0m\u001b[0m\n\u001b[0m\u001b[0;32m      2\u001b[0m \u001b[0mmodel_3\u001b[0m\u001b[1;33m.\u001b[0m\u001b[0msummary\u001b[0m\u001b[1;33m(\u001b[0m\u001b[1;33m)\u001b[0m\u001b[1;33m\u001b[0m\u001b[1;33m\u001b[0m\u001b[0m\n\u001b[0;32m      3\u001b[0m \u001b[1;32mdef\u001b[0m \u001b[0mcompile_model\u001b[0m\u001b[1;33m(\u001b[0m\u001b[0mmodel\u001b[0m\u001b[1;33m)\u001b[0m\u001b[1;33m:\u001b[0m\u001b[1;33m\u001b[0m\u001b[1;33m\u001b[0m\u001b[0m\n\u001b[0;32m      4\u001b[0m     \"\"\"\n\u001b[0;32m      5\u001b[0m     \u001b[0mThis\u001b[0m \u001b[0mfunction\u001b[0m \u001b[0mtakes\u001b[0m \u001b[1;32min\u001b[0m \u001b[0mthe\u001b[0m \u001b[0mmodel\u001b[0m \u001b[0mreturned\u001b[0m \u001b[1;32mfrom\u001b[0m \u001b[0myour\u001b[0m \u001b[0mget_model\u001b[0m \u001b[0mfunction\u001b[0m\u001b[1;33m,\u001b[0m \u001b[1;32mand\u001b[0m \u001b[0mcompiles\u001b[0m \u001b[0mit\u001b[0m \u001b[1;32mwith\u001b[0m \u001b[0man\u001b[0m \u001b[0moptimiser\u001b[0m\u001b[1;33m,\u001b[0m\u001b[1;33m\u001b[0m\u001b[1;33m\u001b[0m\u001b[0m\n",
      "\u001b[1;32m<ipython-input-26-97f50f045354>\u001b[0m in \u001b[0;36mcnn_get_model_3\u001b[1;34m(input_shape)\u001b[0m\n\u001b[0;32m      9\u001b[0m \u001b[1;33m\u001b[0m\u001b[0m\n\u001b[0;32m     10\u001b[0m     \u001b[1;31m# VGG_1\u001b[0m\u001b[1;33m\u001b[0m\u001b[1;33m\u001b[0m\u001b[1;33m\u001b[0m\u001b[0m\n\u001b[1;32m---> 11\u001b[1;33m     \u001b[0mmodel\u001b[0m\u001b[1;33m.\u001b[0m\u001b[0madd\u001b[0m\u001b[1;33m(\u001b[0m\u001b[0mtf\u001b[0m\u001b[1;33m.\u001b[0m\u001b[0mkeras\u001b[0m\u001b[1;33m.\u001b[0m\u001b[0mlayers\u001b[0m\u001b[1;33m.\u001b[0m\u001b[0mConv2D\u001b[0m\u001b[1;33m(\u001b[0m\u001b[1;36m32\u001b[0m\u001b[1;33m,\u001b[0m \u001b[1;33m(\u001b[0m\u001b[1;36m3\u001b[0m\u001b[1;33m,\u001b[0m \u001b[1;36m3\u001b[0m\u001b[1;33m)\u001b[0m\u001b[1;33m,\u001b[0m \u001b[0mactivation\u001b[0m\u001b[1;33m=\u001b[0m\u001b[1;34m'relu'\u001b[0m\u001b[1;33m,\u001b[0m \u001b[0mkernel_initializer\u001b[0m\u001b[1;33m=\u001b[0m\u001b[1;34m'he_uniform'\u001b[0m\u001b[1;33m,\u001b[0m \u001b[0mpadding\u001b[0m\u001b[1;33m=\u001b[0m\u001b[1;34m'same'\u001b[0m\u001b[1;33m,\u001b[0m \u001b[0minput_shape\u001b[0m\u001b[1;33m=\u001b[0m\u001b[0minput_shape\u001b[0m\u001b[1;33m)\u001b[0m\u001b[1;33m)\u001b[0m\u001b[1;33m\u001b[0m\u001b[1;33m\u001b[0m\u001b[0m\n\u001b[0m\u001b[0;32m     12\u001b[0m     \u001b[0mmodel\u001b[0m\u001b[1;33m.\u001b[0m\u001b[0madd\u001b[0m\u001b[1;33m(\u001b[0m\u001b[0mtf\u001b[0m\u001b[1;33m.\u001b[0m\u001b[0mkeras\u001b[0m\u001b[1;33m.\u001b[0m\u001b[0mlayers\u001b[0m\u001b[1;33m.\u001b[0m\u001b[0mBatchNormalization\u001b[0m\u001b[1;33m(\u001b[0m\u001b[1;33m)\u001b[0m\u001b[1;33m)\u001b[0m\u001b[1;33m\u001b[0m\u001b[1;33m\u001b[0m\u001b[0m\n\u001b[0;32m     13\u001b[0m     \u001b[0mmodel\u001b[0m\u001b[1;33m.\u001b[0m\u001b[0madd\u001b[0m\u001b[1;33m(\u001b[0m\u001b[0mtf\u001b[0m\u001b[1;33m.\u001b[0m\u001b[0mkeras\u001b[0m\u001b[1;33m.\u001b[0m\u001b[0mlayers\u001b[0m\u001b[1;33m.\u001b[0m\u001b[0mConv2D\u001b[0m\u001b[1;33m(\u001b[0m\u001b[1;36m32\u001b[0m\u001b[1;33m,\u001b[0m \u001b[1;33m(\u001b[0m\u001b[1;36m3\u001b[0m\u001b[1;33m,\u001b[0m \u001b[1;36m3\u001b[0m\u001b[1;33m)\u001b[0m\u001b[1;33m,\u001b[0m \u001b[0mactivation\u001b[0m\u001b[1;33m=\u001b[0m\u001b[1;34m'relu'\u001b[0m\u001b[1;33m,\u001b[0m \u001b[0mkernel_initializer\u001b[0m\u001b[1;33m=\u001b[0m\u001b[1;34m'he_uniform'\u001b[0m\u001b[1;33m,\u001b[0m \u001b[0mpadding\u001b[0m\u001b[1;33m=\u001b[0m\u001b[1;34m'same'\u001b[0m\u001b[1;33m,\u001b[0m \u001b[0minput_shape\u001b[0m\u001b[1;33m=\u001b[0m\u001b[0minput_shape\u001b[0m\u001b[1;33m)\u001b[0m\u001b[1;33m)\u001b[0m\u001b[1;33m\u001b[0m\u001b[1;33m\u001b[0m\u001b[0m\n",
      "\u001b[1;32m~\\AppData\\Roaming\\Python\\Python38\\site-packages\\tensorflow\\python\\trackable\\base.py\u001b[0m in \u001b[0;36m_method_wrapper\u001b[1;34m(self, *args, **kwargs)\u001b[0m\n\u001b[0;32m    203\u001b[0m     \u001b[0mself\u001b[0m\u001b[1;33m.\u001b[0m\u001b[0m_self_setattr_tracking\u001b[0m \u001b[1;33m=\u001b[0m \u001b[1;32mFalse\u001b[0m  \u001b[1;31m# pylint: disable=protected-access\u001b[0m\u001b[1;33m\u001b[0m\u001b[1;33m\u001b[0m\u001b[0m\n\u001b[0;32m    204\u001b[0m     \u001b[1;32mtry\u001b[0m\u001b[1;33m:\u001b[0m\u001b[1;33m\u001b[0m\u001b[1;33m\u001b[0m\u001b[0m\n\u001b[1;32m--> 205\u001b[1;33m       \u001b[0mresult\u001b[0m \u001b[1;33m=\u001b[0m \u001b[0mmethod\u001b[0m\u001b[1;33m(\u001b[0m\u001b[0mself\u001b[0m\u001b[1;33m,\u001b[0m \u001b[1;33m*\u001b[0m\u001b[0margs\u001b[0m\u001b[1;33m,\u001b[0m \u001b[1;33m**\u001b[0m\u001b[0mkwargs\u001b[0m\u001b[1;33m)\u001b[0m\u001b[1;33m\u001b[0m\u001b[1;33m\u001b[0m\u001b[0m\n\u001b[0m\u001b[0;32m    206\u001b[0m     \u001b[1;32mfinally\u001b[0m\u001b[1;33m:\u001b[0m\u001b[1;33m\u001b[0m\u001b[1;33m\u001b[0m\u001b[0m\n\u001b[0;32m    207\u001b[0m       \u001b[0mself\u001b[0m\u001b[1;33m.\u001b[0m\u001b[0m_self_setattr_tracking\u001b[0m \u001b[1;33m=\u001b[0m \u001b[0mprevious_value\u001b[0m  \u001b[1;31m# pylint: disable=protected-access\u001b[0m\u001b[1;33m\u001b[0m\u001b[1;33m\u001b[0m\u001b[0m\n",
      "\u001b[1;32m~\\AppData\\Roaming\\Python\\Python38\\site-packages\\keras\\utils\\traceback_utils.py\u001b[0m in \u001b[0;36merror_handler\u001b[1;34m(*args, **kwargs)\u001b[0m\n\u001b[0;32m     68\u001b[0m             \u001b[1;31m# To get the full stack trace, call:\u001b[0m\u001b[1;33m\u001b[0m\u001b[1;33m\u001b[0m\u001b[1;33m\u001b[0m\u001b[0m\n\u001b[0;32m     69\u001b[0m             \u001b[1;31m# `tf.debugging.disable_traceback_filtering()`\u001b[0m\u001b[1;33m\u001b[0m\u001b[1;33m\u001b[0m\u001b[1;33m\u001b[0m\u001b[0m\n\u001b[1;32m---> 70\u001b[1;33m             \u001b[1;32mraise\u001b[0m \u001b[0me\u001b[0m\u001b[1;33m.\u001b[0m\u001b[0mwith_traceback\u001b[0m\u001b[1;33m(\u001b[0m\u001b[0mfiltered_tb\u001b[0m\u001b[1;33m)\u001b[0m \u001b[1;32mfrom\u001b[0m \u001b[1;32mNone\u001b[0m\u001b[1;33m\u001b[0m\u001b[1;33m\u001b[0m\u001b[0m\n\u001b[0m\u001b[0;32m     71\u001b[0m         \u001b[1;32mfinally\u001b[0m\u001b[1;33m:\u001b[0m\u001b[1;33m\u001b[0m\u001b[1;33m\u001b[0m\u001b[0m\n\u001b[0;32m     72\u001b[0m             \u001b[1;32mdel\u001b[0m \u001b[0mfiltered_tb\u001b[0m\u001b[1;33m\u001b[0m\u001b[1;33m\u001b[0m\u001b[0m\n",
      "\u001b[1;32m~\\AppData\\Roaming\\Python\\Python38\\site-packages\\keras\\engine\\input_spec.py\u001b[0m in \u001b[0;36massert_input_compatibility\u001b[1;34m(input_spec, inputs, layer_name)\u001b[0m\n\u001b[0;32m    248\u001b[0m             \u001b[0mndim\u001b[0m \u001b[1;33m=\u001b[0m \u001b[0mx\u001b[0m\u001b[1;33m.\u001b[0m\u001b[0mshape\u001b[0m\u001b[1;33m.\u001b[0m\u001b[0mrank\u001b[0m\u001b[1;33m\u001b[0m\u001b[1;33m\u001b[0m\u001b[0m\n\u001b[0;32m    249\u001b[0m             \u001b[1;32mif\u001b[0m \u001b[0mndim\u001b[0m \u001b[1;32mis\u001b[0m \u001b[1;32mnot\u001b[0m \u001b[1;32mNone\u001b[0m \u001b[1;32mand\u001b[0m \u001b[0mndim\u001b[0m \u001b[1;33m<\u001b[0m \u001b[0mspec\u001b[0m\u001b[1;33m.\u001b[0m\u001b[0mmin_ndim\u001b[0m\u001b[1;33m:\u001b[0m\u001b[1;33m\u001b[0m\u001b[1;33m\u001b[0m\u001b[0m\n\u001b[1;32m--> 250\u001b[1;33m                 raise ValueError(\n\u001b[0m\u001b[0;32m    251\u001b[0m                     \u001b[1;34mf'Input {input_index} of layer \"{layer_name}\" '\u001b[0m\u001b[1;33m\u001b[0m\u001b[1;33m\u001b[0m\u001b[0m\n\u001b[0;32m    252\u001b[0m                     \u001b[1;34m\"is incompatible with the layer: \"\u001b[0m\u001b[1;33m\u001b[0m\u001b[1;33m\u001b[0m\u001b[0m\n",
      "\u001b[1;31mValueError\u001b[0m: Input 0 of layer \"conv2d\" is incompatible with the layer: expected min_ndim=4, found ndim=3. Full shape received: (None, None, 1)"
     ]
    }
   ],
   "source": [
    "model_3 = cnn_get_model_3((None, 1))\n",
    "model_3.summary()\n",
    "def compile_model(model):\n",
    "    \"\"\"\n",
    "    This function takes in the model returned from your get_model function, and compiles it with an optimiser,\n",
    "    loss function and metric.\n",
    "    Compile the model using the Adam optimiser (with default settings), the cross-entropy loss function and\n",
    "    accuracy as the only metric. \n",
    "    Your function doesn't need to return anything; the model will be compiled in-place.\n",
    "    \"\"\"\n",
    "    model.compile(optimizer = 'adam', loss = 'sparse_categorical_crossentropy', metrics = ['accuracy'])\n",
    "compile_model(model_3)\n",
    "def train_model(model, scaled_train_images, train_labels, batch_size, epochs):\n",
    "    \"\"\"\n",
    "    This function should train the model for # epochs on the scaled_train_images and train_labels. \n",
    "    Your function should return the training history, as returned by model.fit.\n",
    "    \"\"\"\n",
    "    history = model.fit(x = scaled_train_images, y = train_labels, batch_size = batch_size, epochs = epochs)\n",
    "    return history\n",
    "history_model_1 = train_model(model_1, x_train_s, y_train, batch_size=64, epochs=64)"
   ]
  },
  {
   "cell_type": "code",
   "execution_count": null,
   "id": "5ec3a4a9-d2bd-44f0-b356-1fab552cb7b6",
   "metadata": {},
   "outputs": [],
   "source": [
    "def csv_image_generator(inputPath, bs, lb, mode=\"train\", aug=None):\n",
    "\t# open the CSV file for reading\n",
    "\tf = open(inputPath, \"r\")\n",
    "\t# loop indefinitely\n",
    "\twhile True:\n",
    "\t\t# initialize our batches of images and labels\n",
    "\t\timages = []\n",
    "\t\tlabels = []\n",
    "\t\t# keep looping until we reach our batch size\n",
    "\t\twhile len(images) < bs:\n",
    "\t\t\t# attempt to read the next line of the CSV file\n",
    "\t\t\tline = f.readline()\n",
    "\t\t\t# check to see if the line is empty, indicating we have\n",
    "\t\t\t# reached the end of the file\n",
    "\t\t\tif line == \"\":\n",
    "\t\t\t\t# reset the file pointer to the beginning of the file\n",
    "\t\t\t\t# and re-read the line\n",
    "\t\t\t\tf.seek(0)\n",
    "\t\t\t\tline = f.readline()\n",
    "\t\t\t\t# if we are evaluating we should now break from our\n",
    "\t\t\t\t# loop to ensure we don't continue to fill up the\n",
    "\t\t\t\t# batch from samples at the beginning of the file\n",
    "\t\t\t\tif mode == \"eval\":\n",
    "\t\t\t\t\tbreak\n",
    "\t\t\t# extract the label and construct the image\n",
    "\t\t\tline = line.strip().split(\",\")\n",
    "\t\t\tlabel = line[0]\n",
    "\t\t\timage = np.array([int(x) for x in line[1:]], dtype=\"float32\")\n",
    "\t\t\timage = image.reshape((64, 64, 3))\n",
    "\t\t\t# update our corresponding batches lists\n",
    "\t\t\timages.append(image)\n",
    "\t\t\tlabels.append(label)\n",
    "\t\t# one-hot encode the labels\n",
    "\t\tlabels = lb.transform(np.array(labels))\n",
    "\t\t# if the data augmentation object is not None, apply it\n",
    "\t\tif aug is not None:\n",
    "\t\t\t(images, labels) = next(aug.flow(np.array(images),\n",
    "\t\t\t\tlabels, batch_size=bs))\n",
    "\t\t# yield the batch to the calling function\n",
    "\t\tyield (np.array(images), labels)"
   ]
  },
  {
   "cell_type": "code",
   "execution_count": null,
   "id": "7c0d33c9-0810-4b5d-a9ca-b1faf8f7f4f6",
   "metadata": {},
   "outputs": [],
   "source": [
    "trainGen = csv_image_generator(TRAIN_CSV, BS, lb, mode=\"train\", aug=aug)\n",
    "NUM_EPOCHS = 75\n",
    "BS = 32"
   ]
  },
  {
   "cell_type": "code",
   "execution_count": 38,
   "id": "5269ee6d-ffe9-4dea-9fad-70c9f079cdda",
   "metadata": {},
   "outputs": [
    {
     "ename": "ImportError",
     "evalue": "cannot import name 'DataGenerator' from 'my_classes' (D:\\POT\\7th semester\\Computational Intelligence\\Project\\my_classes.py)",
     "output_type": "error",
     "traceback": [
      "\u001b[1;31m---------------------------------------------------------------------------\u001b[0m",
      "\u001b[1;31mImportError\u001b[0m                               Traceback (most recent call last)",
      "\u001b[1;32m<ipython-input-38-be45a0205b46>\u001b[0m in \u001b[0;36m<module>\u001b[1;34m\u001b[0m\n\u001b[1;32m----> 1\u001b[1;33m \u001b[1;32mfrom\u001b[0m \u001b[0mmy_classes\u001b[0m \u001b[1;32mimport\u001b[0m \u001b[0mDataGenerator\u001b[0m\u001b[1;33m\u001b[0m\u001b[1;33m\u001b[0m\u001b[0m\n\u001b[0m",
      "\u001b[1;31mImportError\u001b[0m: cannot import name 'DataGenerator' from 'my_classes' (D:\\POT\\7th semester\\Computational Intelligence\\Project\\my_classes.py)"
     ]
    }
   ],
   "source": [
    "from my_classes import DataGenerator"
   ]
  },
  {
   "cell_type": "code",
   "execution_count": 67,
   "id": "f0f8b5be-50ea-44e6-bf0f-4dbaedbd7cda",
   "metadata": {},
   "outputs": [],
   "source": [
    "df_ = dd.read_csv(\"G:\\Dataset\\FaceImageCroppedWithAlignment.tsv\", sep=\"\\t\",encoding = 'ISO-8859-1')"
   ]
  },
  {
   "cell_type": "code",
   "execution_count": 87,
   "id": "20d50cf9-4a60-4003-9754-199fa32d9c3a",
   "metadata": {},
   "outputs": [
    {
     "data": {
      "text/plain": [
       "dd.Scalar<size-ag..., dtype=int32>"
      ]
     },
     "execution_count": 87,
     "metadata": {},
     "output_type": "execute_result"
    }
   ],
   "source": [
    "df.size"
   ]
  },
  {
   "cell_type": "code",
   "execution_count": 94,
   "id": "e3a038d6-fcd6-4716-9dcc-90bed31459e4",
   "metadata": {},
   "outputs": [
    {
     "data": {
      "text/plain": [
       "<bound method _Frame.shuffle of Dask DataFrame Structure:\n",
       "                       a      b       c\n",
       "npartitions=1424                       \n",
       "                  object  int64  object\n",
       "                     ...    ...     ...\n",
       "...                  ...    ...     ...\n",
       "                     ...    ...     ...\n",
       "                     ...    ...     ...\n",
       "Dask Name: rename, 4272 tasks>"
      ]
     },
     "execution_count": 94,
     "metadata": {},
     "output_type": "execute_result"
    }
   ],
   "source": [
    "df_prime.shuffle"
   ]
  },
  {
   "cell_type": "code",
   "execution_count": 78,
   "id": "b697edbe-409f-459d-8da3-51cb9a67a8c3",
   "metadata": {},
   "outputs": [
    {
     "data": {
      "text/html": [
       "<div><strong>Dask DataFrame Structure:</strong></div>\n",
       "<div>\n",
       "<style scoped>\n",
       "    .dataframe tbody tr th:only-of-type {\n",
       "        vertical-align: middle;\n",
       "    }\n",
       "\n",
       "    .dataframe tbody tr th {\n",
       "        vertical-align: top;\n",
       "    }\n",
       "\n",
       "    .dataframe thead th {\n",
       "        text-align: right;\n",
       "    }\n",
       "</style>\n",
       "<table border=\"1\" class=\"dataframe\">\n",
       "  <thead>\n",
       "    <tr style=\"text-align: right;\">\n",
       "      <th></th>\n",
       "      <th>first</th>\n",
       "      <th>second</th>\n",
       "      <th>third</th>\n",
       "    </tr>\n",
       "    <tr>\n",
       "      <th>npartitions=1424</th>\n",
       "      <th></th>\n",
       "      <th></th>\n",
       "      <th></th>\n",
       "    </tr>\n",
       "  </thead>\n",
       "  <tbody>\n",
       "    <tr>\n",
       "      <th></th>\n",
       "      <td>object</td>\n",
       "      <td>int64</td>\n",
       "      <td>object</td>\n",
       "    </tr>\n",
       "    <tr>\n",
       "      <th></th>\n",
       "      <td>...</td>\n",
       "      <td>...</td>\n",
       "      <td>...</td>\n",
       "    </tr>\n",
       "    <tr>\n",
       "      <th>...</th>\n",
       "      <td>...</td>\n",
       "      <td>...</td>\n",
       "      <td>...</td>\n",
       "    </tr>\n",
       "    <tr>\n",
       "      <th></th>\n",
       "      <td>...</td>\n",
       "      <td>...</td>\n",
       "      <td>...</td>\n",
       "    </tr>\n",
       "    <tr>\n",
       "      <th></th>\n",
       "      <td>...</td>\n",
       "      <td>...</td>\n",
       "      <td>...</td>\n",
       "    </tr>\n",
       "  </tbody>\n",
       "</table>\n",
       "</div>\n",
       "<div>Dask Name: rename, 5696 tasks</div>"
      ],
      "text/plain": [
       "Dask DataFrame Structure:\n",
       "                   first second   third\n",
       "npartitions=1424                       \n",
       "                  object  int64  object\n",
       "                     ...    ...     ...\n",
       "...                  ...    ...     ...\n",
       "                     ...    ...     ...\n",
       "                     ...    ...     ...\n",
       "Dask Name: rename, 5696 tasks"
      ]
     },
     "execution_count": 78,
     "metadata": {},
     "output_type": "execute_result"
    }
   ],
   "source": [
    "df_prime"
   ]
  },
  {
   "cell_type": "code",
   "execution_count": null,
   "id": "a118d0eb-d203-4e6d-903f-b1db8bb23678",
   "metadata": {},
   "outputs": [],
   "source": []
  },
  {
   "cell_type": "code",
   "execution_count": null,
   "id": "42eadaae-c7d9-492f-989e-86f69b914546",
   "metadata": {},
   "outputs": [],
   "source": []
  },
  {
   "cell_type": "code",
   "execution_count": null,
   "id": "b79394fd-914d-4272-8c8d-0b2029c72f99",
   "metadata": {},
   "outputs": [],
   "source": []
  },
  {
   "cell_type": "code",
   "execution_count": null,
   "id": "921e21cb-dc84-47b0-8b80-ad84e8a3fe27",
   "metadata": {},
   "outputs": [],
   "source": []
  }
 ],
 "metadata": {
  "kernelspec": {
   "display_name": "Python 3",
   "language": "python",
   "name": "python3"
  },
  "language_info": {
   "codemirror_mode": {
    "name": "ipython",
    "version": 3
   },
   "file_extension": ".py",
   "mimetype": "text/x-python",
   "name": "python",
   "nbconvert_exporter": "python",
   "pygments_lexer": "ipython3",
   "version": "3.7.2 (tags/v3.7.2:9a3ffc0492, Dec 23 2018, 23:09:28) [MSC v.1916 64 bit (AMD64)]"
  },
  "vscode": {
   "interpreter": {
    "hash": "c49e04134dfdb3afe2718c7a4f62bce7c6a1aa0869d7b6c6139301f6350266f7"
   }
  }
 },
 "nbformat": 4,
 "nbformat_minor": 5
}
